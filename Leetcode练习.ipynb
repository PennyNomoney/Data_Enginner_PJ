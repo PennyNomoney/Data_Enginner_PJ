{
 "cells": [
  {
   "cell_type": "markdown",
   "metadata": {},
   "source": [
    "# Leetcode 练习"
   ]
  },
  {
   "cell_type": "markdown",
   "metadata": {},
   "source": [
    "# 14. Longest Common Prefix"
   ]
  },
  {
   "cell_type": "markdown",
   "metadata": {},
   "source": [
    "Write a function to find the longest common prefix string amongst an array of strings.\n",
    "If there is no common prefix, return an empty string \"\".\n",
    "\n",
    "Example 1:\n",
    "\n",
    "Input: strs = [\"flower\",\"flow\",\"flight\"]\n",
    "Output: \"fl\"\n",
    "\n",
    "Example 2:\n",
    "\n",
    "Input: strs = [\"dog\",\"racecar\",\"car\"]\n",
    "Output: \"\"\n",
    "Explanation: There is no common prefix among the input strings.\n",
    "\n",
    "注意这里prefix是指从第一个字节开始的common letter，并不是找到common substring"
   ]
  },
  {
   "cell_type": "raw",
   "metadata": {},
   "source": [
    "max() function with a key:\n",
    "Call max(iterable, key: =\"func\") with a collection as iterable and a function as key to return the maximum value based on the given function.\n",
    "\n",
    "Example：\n",
    "a_list = [\"aaa\", \"bb\", \"c\"]\n",
    "longest_string = max(a_list, key=len)\n",
    "Get string with longest length\n",
    "print(longest_string)"
   ]
  },
  {
   "cell_type": "code",
   "execution_count": 27,
   "metadata": {},
   "outputs": [],
   "source": [
    "class Solution:   \n",
    "    def find_longest_prefix(self,strs):\n",
    "        res=''\n",
    "        max_len=len(max(strs,key=len))\n",
    "        for c in range(max_len):       \n",
    "            if len(strs[0])<=c:\n",
    "                return res\n",
    "            ch=strs[0][c]\n",
    "            for r in range(1,len(strs)): \n",
    "                if len(strs[r])<=c or ch!=strs[r][c]:\n",
    "                    return res\n",
    "            else:\n",
    "                res+=strs[0][c]\n",
    "        return res\n",
    "            \n",
    "        "
   ]
  },
  {
   "cell_type": "code",
   "execution_count": 28,
   "metadata": {},
   "outputs": [
    {
     "data": {
      "text/plain": [
       "'fl'"
      ]
     },
     "execution_count": 28,
     "metadata": {},
     "output_type": "execute_result"
    }
   ],
   "source": [
    "test=[\"flower\",\"flow\",\"flight\"]\n",
    "myfind=Solution\n",
    "myfind.find_longest_prefix(myfind,test)"
   ]
  },
  {
   "cell_type": "markdown",
   "metadata": {},
   "source": [
    "# 15. 3Sum"
   ]
  },
  {
   "cell_type": "markdown",
   "metadata": {},
   "source": [
    "Given an integer array nums, return all the triplets [nums[i], nums[j], nums[k]] such that i != j, i != k, and j != k, and nums[i] + nums[j] + nums[k] == 0.\n",
    "\n",
    "Notice that the solution set must not contain duplicate triplets."
   ]
  },
  {
   "cell_type": "code",
   "execution_count": 29,
   "metadata": {},
   "outputs": [
    {
     "data": {
      "text/plain": [
       "[[-5, 1, 4], [-1, -1, 2], [-1, 0, 1]]"
      ]
     },
     "execution_count": 29,
     "metadata": {},
     "output_type": "execute_result"
    }
   ],
   "source": [
    "class Solution:\n",
    "    def threeSum(self, nums):\n",
    "        result=[]\n",
    "        n=len(nums)\n",
    "        nums.sort()\n",
    "#         if not nums or n<3:\n",
    "#             return result\n",
    "#考虑极端情况:最小三个数和大于0\n",
    "\n",
    "        for i in range(n-2):\n",
    "            if nums[i]+nums[i+1]+nums[i+2]>0:\n",
    "                break\n",
    "            if nums[i]+nums[n-1]+nums[n-2]<0:\n",
    "                continue\n",
    "            if i>0 and nums[i]==nums[i-1]:\n",
    "                continue\n",
    "            l,r=i+1,n-1\n",
    "            while l<r:\n",
    "                temp=nums[i]+nums[l]+nums[r]\n",
    "                if temp==0:\n",
    "                    result.append([nums[i],nums[l],nums[r]])\n",
    "                    while l<r-1 and nums[l]==nums[l+1]:\n",
    "                        l+=1\n",
    "                        \n",
    "                    l+=1\n",
    "                    while l<r-1 and nums[r]==nums[r-1]:\n",
    "                        r-=1\n",
    "                    r-=1\n",
    "                elif temp<0:\n",
    "                    l+=1\n",
    "                else:\n",
    "                    r-=1\n",
    "        return result\n",
    "        \n",
    "nums=[-1,0,1,4,-1,2,1,-5,4]\n",
    "Solution.threeSum(Solution,nums)\n",
    "        \n",
    "        "
   ]
  },
  {
   "cell_type": "markdown",
   "metadata": {},
   "source": [
    "# 53. Maximum Subarray"
   ]
  },
  {
   "cell_type": "markdown",
   "metadata": {},
   "source": [
    "Given an integer array nums, find the contiguous subarray (containing at least one number) which has the largest sum and return its sum."
   ]
  },
  {
   "cell_type": "code",
   "execution_count": 52,
   "metadata": {},
   "outputs": [],
   "source": [
    "nums = [-2,1,-3,4,-1,2,1,-5,4]"
   ]
  },
  {
   "cell_type": "code",
   "execution_count": 56,
   "metadata": {},
   "outputs": [
    {
     "data": {
      "text/plain": [
       "range(0, 8)"
      ]
     },
     "execution_count": 56,
     "metadata": {},
     "output_type": "execute_result"
    }
   ],
   "source": [
    "range(len(nums)-1)"
   ]
  },
  {
   "cell_type": "markdown",
   "metadata": {},
   "source": [
    "# 42. Trapping Rain Water"
   ]
  },
  {
   "cell_type": "markdown",
   "metadata": {},
   "source": [
    "Given n non-negative integers representing an elevation map where the width of each bar is 1, compute how much water it can trap after raining.\n"
   ]
  },
  {
   "cell_type": "code",
   "execution_count": null,
   "metadata": {},
   "outputs": [],
   "source": [
    "class Solution:\n",
    "    def trap(self, height: List[int]) -> int:\n",
    "        while not height:\n",
    "            return 0\n",
    "        res=0\n",
    "        leftmax=[0]*len(height)\n",
    "        leftmax[0]=height[0]\n",
    "        for i in range(1,len(height)):\n",
    "            leftmax[i]=max(leftmax[i-1],height[i])\n",
    "        \n",
    "        \n",
    "        ##calcute each elevation of longest bar of right side \n",
    "        rightmax=[0]*len(height)\n",
    "        rightmax[len(height)-1]=height[-1]\n",
    "        for i in range(len(height)-2,-1,-1):\n",
    "            rightmax[i]=max(rightmax[i+1],height[i])\n",
    "        \n",
    "        for i in range(0,len(height)):\n",
    "            res+=min(leftmax[i],rightmax[i])-height[i]\n",
    "        \n",
    "        \n",
    "        return res"
   ]
  },
  {
   "cell_type": "markdown",
   "metadata": {},
   "source": [
    "# 20. Valid Parentheses"
   ]
  },
  {
   "cell_type": "markdown",
   "metadata": {},
   "source": [
    "Given a string s containing just the characters '(', ')', '{', '}', '[' and ']', determine if the input string is valid.\n",
    "\n",
    "An input string is valid if:\n",
    "\n",
    "Open brackets must be closed by the same type of brackets.\n",
    "Open brackets must be closed in the correct order."
   ]
  },
  {
   "cell_type": "code",
   "execution_count": 1,
   "metadata": {},
   "outputs": [],
   "source": [
    "## method 1\n",
    "class Solution:\n",
    "    def isValid(self, s: str) -> bool:\n",
    "        left=['{','[','(']\n",
    "        right=['}',']',')']\n",
    "        storage=[]\n",
    "        for i in range(len(s)):\n",
    "            if s[i] in left:\n",
    "                storage.append(s[i])\n",
    "            elif s[i] in right:\n",
    "                if len(storage)<=0:\n",
    "                    return False\n",
    "                elif left.index(storage.pop())!=right.index(s[i]):\n",
    "                    return False\n",
    "        return len(storage)==0"
   ]
  },
  {
   "cell_type": "code",
   "execution_count": 2,
   "metadata": {},
   "outputs": [],
   "source": [
    "## Method 2\n",
    "class Solution:\n",
    "    def isValid(self, s: str) -> bool:\n",
    "        dic={'{':'}','[':']','(':')'}\n",
    "        storage=[]\n",
    "        for letter in s:\n",
    "            if letter in dic:\n",
    "                storage.append(letter)\n",
    "            elif len(storage)==0 or letter!=dic[storage.pop()]:\n",
    "                return False\n",
    "        return len(storage)==0"
   ]
  },
  {
   "cell_type": "markdown",
   "metadata": {},
   "source": [
    "# 215. Kth Largest Element in an Array"
   ]
  },
  {
   "cell_type": "markdown",
   "metadata": {},
   "source": [
    "Given an integer array nums and an integer k, return the kth largest element in the array.\n",
    "\n",
    "Note that it is the kth largest element in the sorted order, not the kth distinct element."
   ]
  },
  {
   "cell_type": "code",
   "execution_count": 11,
   "metadata": {},
   "outputs": [],
   "source": [
    "import random\n",
    "class leetcode:\n",
    "    def findKthLargest(self, nums, k):\n",
    "        pivot=random.choice(nums)\n",
    "        left = [x for x in nums if x > pivot]\n",
    "        right = [x for x in nums if x < pivot]\n",
    "        mid = [x for x in nums if x==pivot]\n",
    "        L,M=len(left),len(mid)\n",
    "        if k<=L:\n",
    "            return self.findKthLargest(left,k)\n",
    "        elif k > (L+M):\n",
    "            return self.findKthLargest(right,k-(L+M))\n",
    "        else:\n",
    "            return mid[0]\n",
    "        "
   ]
  },
  {
   "cell_type": "code",
   "execution_count": 12,
   "metadata": {},
   "outputs": [
    {
     "data": {
      "text/plain": [
       "6"
      ]
     },
     "execution_count": 12,
     "metadata": {},
     "output_type": "execute_result"
    }
   ],
   "source": [
    "test=leetcode()\n",
    "nums=[1,4,6,2,5,7,9]\n",
    "k=3\n",
    "test.findKthLargest(nums,k)"
   ]
  },
  {
   "cell_type": "markdown",
   "metadata": {},
   "source": [
    "# 83. Remove Duplicates from Sorted List"
   ]
  },
  {
   "cell_type": "markdown",
   "metadata": {},
   "source": [
    "Given the head of a sorted linked list, delete all duplicates such that each element appears only once. Return the linked list sorted as well."
   ]
  },
  {
   "cell_type": "code",
   "execution_count": 31,
   "metadata": {},
   "outputs": [],
   "source": [
    "#Definition for singly-linked list.\n",
    "class ListNode:\n",
    "    def __init__(self, val=0, next=None): \n",
    "             self.val = val\n",
    "             self.next = next\n",
    "class Solution:\n",
    "    def deleteDuplicates(self, head: ListNode) -> ListNode:\n",
    "        if head==None:\n",
    "            return head\n",
    "        current=head.next\n",
    "        prev=head\n",
    "        \n",
    "        while current!=None:\n",
    "            if current.val==prev.val:\n",
    "                prev.next=current.next\n",
    "                current=current.next\n",
    "            else:\n",
    "                currnt=current.next\n",
    "                prev=prev.next\n",
    "                \n",
    "        return head"
   ]
  },
  {
   "cell_type": "markdown",
   "metadata": {},
   "source": [
    "# 322. Coin Change"
   ]
  },
  {
   "cell_type": "markdown",
   "metadata": {},
   "source": [
    "You are given an integer array coins representing coins of different denominations and an integer amount representing a total amount of money.\n",
    "\n",
    "Return the fewest number of coins that you need to make up that amount. If that amount of money cannot be made up by any combination of the coins, return -1.\n",
    "\n",
    "You may assume that you have an infinite number of each kind of coin."
   ]
  },
  {
   "cell_type": "code",
   "execution_count": 37,
   "metadata": {},
   "outputs": [],
   "source": [
    "class Solution:\n",
    "    def coinChange(self, coins, amount: int):\n",
    "        \"\"\"\n",
    "        Method: dynamic programing\n",
    "        使用dp[i]：就是第i个元素存放总价值为i的最优的硬币数量。这个会不断被更新，更新逻辑是来源于\n",
    "        dp[i+c]=min(dp[i+c],dp[i]+1)\n",
    "        这里可以解释在dp[i]的情况下，我们知道只要再加一个价值为c的银币就能得到dp[i+c]，\n",
    "        所以去dp[i+c]和dp[i]+1的最小值，就是dp[i+c]的最优解\n",
    "        \"\"\"\n",
    "        dp=[sys.maxsize-1]*(amount+1)\n",
    "        dp[0]=0\n",
    "        \n",
    "        for i in range(amount+1):\n",
    "            if dp[i]==sys.maxsize-1:\n",
    "                continue\n",
    "            for coin in coins:\n",
    "                if coin+i<=amount:\n",
    "                    dp[coin+i]=min(dp[coin+i],dp[i]+1)\n",
    "        \n",
    "        if dp[-1]==sys.maxsize-1:\n",
    "            return -1\n",
    "        return dp[-1]"
   ]
  },
  {
   "cell_type": "markdown",
   "metadata": {},
   "source": [
    "# 125. Valid Palindrome"
   ]
  },
  {
   "cell_type": "markdown",
   "metadata": {},
   "source": [
    "Given a string s, determine if it is a palindrome, considering only alphanumeric characters and ignoring cases.\n",
    " \n",
    "Example 1:\n",
    "\n",
    "Input: s = \"A man, a plan, a canal: Panama\"\n",
    "Output: true\n",
    "Explanation: \"amanaplanacanalpanama\" is a palindrome.\n",
    "Example 2:\n",
    "\n",
    "Input: s = \"race a car\"\n",
    "Output: false\n",
    "Explanation: \"raceacar\" is not a palindrome."
   ]
  },
  {
   "cell_type": "code",
   "execution_count": null,
   "metadata": {},
   "outputs": [],
   "source": [
    "class Solution:\n",
    "    def isPalindrome(self, s: str) -> bool:\n",
    "        s=s.lower()\n",
    "        i,j=0,len(s)-1\n",
    "        while i<j:\n",
    "            if not s[i].isalnum():\n",
    "                i+=1\n",
    "                continue\n",
    "            if not s[j].isalnum():\n",
    "                j-=1\n",
    "                continue\n",
    "            if s[i]==s[j]:\n",
    "                i+=1\n",
    "                j-=1\n",
    "            else:\n",
    "                return False        \n",
    "        \n",
    "        return True"
   ]
  },
  {
   "cell_type": "markdown",
   "metadata": {},
   "source": [
    "# 680. Valid Palindrome II"
   ]
  },
  {
   "cell_type": "markdown",
   "metadata": {},
   "source": [
    "Example 1:\n",
    "\n",
    "Input: s = \"aba\"\n",
    "Output: true\n",
    "\n",
    "Example 2:\n",
    "\n",
    "Input: s = \"abca\"\n",
    "Output: true\n",
    "Explanation: You could delete the character 'c'."
   ]
  },
  {
   "cell_type": "code",
   "execution_count": null,
   "metadata": {},
   "outputs": [],
   "source": [
    "class Solution:\n",
    "    def validPalindrome(self, s: str) -> bool:\n",
    "        i,j=0,len(s)-1\n",
    "        while i<j:\n",
    "            if s[i]==s[j]:\n",
    "                i+=1\n",
    "                j-=1\n",
    "            else:\n",
    "                return self.isPalindrome(s,i+1,j) or self.isPalindrome(s,i,j-1)\n",
    "        \n",
    "        return True\n",
    "\n",
    "    def isPalindrome(self,s,head,tail):\n",
    "        while head<tail:\n",
    "            if s[head]==s[tail]:\n",
    "                head+=1\n",
    "                tail-=1\n",
    "            else:\n",
    "                return False\n",
    "        return True"
   ]
  },
  {
   "cell_type": "markdown",
   "metadata": {},
   "source": [
    "# 953. Verifying an Alien Dictionary"
   ]
  },
  {
   "cell_type": "markdown",
   "metadata": {},
   "source": [
    "In an alien language, surprisingly they also use english lowercase letters, but possibly in a different order. The order of the alphabet is some permutation of lowercase letters.\n",
    "\n",
    "Given a sequence of words written in the alien language, and the order of the alphabet, return true if and only if the given words are sorted lexicographicaly in this alien language."
   ]
  },
  {
   "cell_type": "code",
   "execution_count": null,
   "metadata": {},
   "outputs": [],
   "source": [
    "class Solution:\n",
    "    def isAlienSorted(self, words: List[str], order: str) -> bool:\n",
    "        lookup={}\n",
    "        for idx,char in enumerate(order):\n",
    "            lookup[char]=idx+1\n",
    "        n=len(words)\n",
    "        if n==1: return Ture\n",
    "        \n",
    "        for i in range(1,n):\n",
    "            for j in range(len(words[i-1])):\n",
    "                if j>=len(words[i]):\n",
    "                    return False\n",
    "                if words[i-1][j]!=words[i][j]:\n",
    "                    if lookup[words[i-1][j]]>lookup[words[i][j]]:\n",
    "                        return False\n",
    "                    else:\n",
    "                        break\n",
    "        return True"
   ]
  },
  {
   "cell_type": "markdown",
   "metadata": {},
   "source": [
    "# 1041. Robot Bounded In Circle"
   ]
  },
  {
   "cell_type": "markdown",
   "metadata": {},
   "source": [
    "On an infinite plane, a robot initially stands at (0, 0) and faces north. The robot can receive one of three instructions:\n",
    "\n",
    "\"G\": go straight 1 unit;\n",
    "\"L\": turn 90 degrees to the left;\n",
    "\"R\": turn 90 degrees to the right.\n",
    "The robot performs the instructions given in order, and repeats them forever.\n",
    "\n",
    "Return true if and only if there exists a circle in the plane such that the robot never leaves the circle."
   ]
  },
  {
   "cell_type": "code",
   "execution_count": 38,
   "metadata": {},
   "outputs": [],
   "source": [
    "class Solution:\n",
    "    def isRobotBounded(self, instructions: str) -> bool:\n",
    "        #north =0,east=1, south=2, west=3\n",
    "        directions=[[0,1],[1,0],[0,-1],[-1,0]]\n",
    "        #facing north\n",
    "        index=0\n",
    "        #initial pointer\n",
    "        x,y=0,0\n",
    "        \n",
    "        for i in instructions:\n",
    "            if i=='L':\n",
    "                index=(index+3)%4\n",
    "            elif i=='R':\n",
    "                index=(index+1)%4\n",
    "            else:\n",
    "                x+=directions[index][0]\n",
    "                y+=directions[index][1]\n",
    "        # if your are not face north means you'll be in circle        \n",
    "        return (x==0 and y==0) or index!=0"
   ]
  },
  {
   "cell_type": "markdown",
   "metadata": {},
   "source": [
    "# 780. Reaching Points"
   ]
  },
  {
   "cell_type": "markdown",
   "metadata": {},
   "source": [
    "A move consists of taking a point (x, y) and transforming it to either (x, x+y) or (x+y, y).\n",
    "\n",
    "Given a starting point (sx, sy) and a target point (tx, ty), return True if and only if a sequence of moves exists to transform the point (sx, sy) to (tx, ty). Otherwise, return False."
   ]
  },
  {
   "cell_type": "code",
   "execution_count": 39,
   "metadata": {},
   "outputs": [],
   "source": [
    "#Method 1 Dynamic Programming\n",
    "class Solution:\n",
    "    def reachingPoints(self, sx: int, sy: int, tx: int, ty: int) -> bool:\n",
    "        seen=set()\n",
    "        def search(x,y):\n",
    "            if (x,y) in seen: return\n",
    "            if x>tx or y>ty : return\n",
    "            seen.add((x,y))\n",
    "            search(x+y,y)\n",
    "            search(x,x+y)\n",
    "        search(sx,sy)\n",
    "        return (tx,ty) in seen"
   ]
  },
  {
   "cell_type": "code",
   "execution_count": null,
   "metadata": {},
   "outputs": [],
   "source": [
    "class Solution:\n",
    "        def reachingPoints(self, sx: int, sy: int, tx: int, ty: int) -> bool:\n",
    "            while tx>=sx and ty>=sy:\n",
    "                if tx==ty:\n",
    "                    break\n",
    "                elif tx>ty:\n",
    "                    if ty>sy:\n",
    "                        tx=tx%ty\n",
    "                    else:\n",
    "                        return (tx-sx)%ty==0\n",
    "                else:\n",
    "                    if tx>sx:\n",
    "                        ty%=tx\n",
    "                    else:\n",
    "                        return (ty-sy)%tx==0\n",
    "            return tx==sx and ty==sy"
   ]
  },
  {
   "cell_type": "markdown",
   "metadata": {},
   "source": [
    "# 200. Number of Islands"
   ]
  },
  {
   "cell_type": "markdown",
   "metadata": {},
   "source": [
    "Given an m x n 2D binary grid grid which represents a map of '1's (land) and '0's (water), return the number of islands.\n",
    "\n",
    "An island is surrounded by water and is formed by connecting adjacent lands horizontally or vertically. You may assume all four edges of the grid are all surrounded by water."
   ]
  },
  {
   "cell_type": "code",
   "execution_count": null,
   "metadata": {},
   "outputs": [],
   "source": [
    "class Solution:\n",
    "    def numIslands(self, grid: List[List[str]]) -> int:\n",
    "        if not grid or not grid[0]:\n",
    "            return 0\n",
    "        count=0\n",
    "        for i in range(len(grid)):\n",
    "            for j in range(len(grid[0])):\n",
    "                if grid[i][j]=='1':\n",
    "                    count+=1\n",
    "                    self.bfs(grid,i,j)\n",
    "        return count\n",
    "                    \n",
    " ## dfs method       \n",
    "    def dfs(self,grid,i,j):\n",
    "        if i<0 or j<0 or i>=len(grid) or j>=len(grid[0]) or grid[i][j]!='1':\n",
    "            return\n",
    "        grid[i][j]='#'\n",
    "        self.dfs(grid,i+1,j)\n",
    "        self.dfs(grid,i-1,j)\n",
    "        self.dfs(grid,i,j-1)\n",
    "        self.dfs(grid,i,j+1)\n",
    "#time complexity o(MN)\n",
    "#space complexity o(MN)\n",
    "\n",
    "\n",
    "## bfs method\n",
    "    def bfs(self,grid,i,j):\n",
    "        queue=deque([(i,j)])\n",
    "        grid[i][j]='@'\n",
    "        while queue:\n",
    "            i,j=queue.popleft()\n",
    "            for (delt_i,delt_j) in [(1,0),(-1,0),(0,1),(0,-1)]:\n",
    "                next_i=delt_i+i\n",
    "                next_j=delt_j+j\n",
    "                if next_i<0 or next_j<0 or next_i>=len(grid) or next_j>=len(grid[0]) or grid[next_i][next_j]!='1':\n",
    "                    continue\n",
    "                queue.append((next_i,next_j))\n",
    "                grid[next_i][next_j]='@'\n",
    "                "
   ]
  },
  {
   "cell_type": "code",
   "execution_count": 8,
   "metadata": {},
   "outputs": [],
   "source": [
    "grid = [\n",
    "  [\"1\",\"1\",\"1\",\"1\",\"0\"],\n",
    "  [\"1\",\"1\",\"0\",\"1\",\"0\"],\n",
    "  [\"1\",\"1\",\"0\",\"0\",\"0\"],\n",
    "  [\"0\",\"0\",\"0\",\"0\",\"0\"]\n",
    "]"
   ]
  },
  {
   "cell_type": "markdown",
   "metadata": {},
   "source": [
    "# 1249. Minimum Remove to Make Valid Parentheses"
   ]
  },
  {
   "cell_type": "markdown",
   "metadata": {},
   "source": [
    "Given a string s of '(' , ')' and lowercase English characters. \n",
    "\n",
    "Your task is to remove the minimum number of parentheses ( '(' or ')', in any positions ) so that the resulting parentheses string is valid and return any valid string.\n",
    "\n",
    "Formally, a parentheses string is valid if and only if:\n",
    "\n",
    "It is the empty string, contains only lowercase characters, or\n",
    "It can be written as AB (A concatenated with B), where A and B are valid strings, or\n",
    "It can be written as (A), where A is a valid string.\n",
    "\n",
    "Example 1:\n",
    "Input: s = \"lee(t(c)o)de)\"\n",
    "Output: \"lee(t(c)o)de\"\n",
    "Explanation: \"lee(t(co)de)\" , \"lee(t(c)ode)\" would also be accepted."
   ]
  },
  {
   "cell_type": "code",
   "execution_count": null,
   "metadata": {},
   "outputs": [],
   "source": [
    "##Low efficieny method\n",
    "\n",
    "class Solution:\n",
    "    def minRemoveToMakeValid(self, s: str) -> str:\n",
    "        remove_idx=[]\n",
    "        storage=[]\n",
    "        newS=[]\n",
    "        for i in range(len(s)):\n",
    "            if s[i] not in \"()\":\n",
    "                continue\n",
    "            if s[i]==')' and len(storage)==0:\n",
    "                remove_idx.append(i)\n",
    "            elif s[i]=='(':\n",
    "                storage.append(i)\n",
    "            elif s[i]==')' and len(storage)!=0:\n",
    "                storage.pop()\n",
    "        newL=remove_idx+storage\n",
    "    \n",
    "        for j in range(len(s)):\n",
    "             if j not in newL:\n",
    "                newS.append(s[j])\n",
    "        return ''.join(newS)"
   ]
  },
  {
   "cell_type": "code",
   "execution_count": null,
   "metadata": {},
   "outputs": [],
   "source": [
    "## High efficiency solution\n",
    "class Solution:\n",
    "    def minRemoveToMakeValid(self, s: str) -> str:\n",
    "        n=len(s)\n",
    "        ct=0\n",
    "        res=[]\n",
    "##从左往右便利一边，如果碰到右括号，切没有可以配对的左括号的就不加入，从左括号或者字母开始加入res      \n",
    "        for i in s:\n",
    "            if i=='(':\n",
    "                ct+=1\n",
    "                res.append(i)\n",
    "            elif i==')':\n",
    "                if ct>0:\n",
    "                    ct-=1\n",
    "                    res.append(i)\n",
    "            else:\n",
    "                res.append(i)\n",
    "##如果count不为0，把res从右向左遍历一边，去掉多余的右括号\n",
    "        for i in range(len(res)-1,-1,-1):\n",
    "            if ct==0:\n",
    "                break\n",
    "            if res[i]=='(':\n",
    "                ct-=1\n",
    "                res[i]=\"\"\n",
    "        return ''.join(res)\n",
    "\n",
    "\n"
   ]
  },
  {
   "cell_type": "code",
   "execution_count": 31,
   "metadata": {},
   "outputs": [],
   "source": [
    "def validIP(IP):\n",
    "    List=IP.split('.')\n",
    "    validL=[x for x in List if (int(x)>=0 and int(x)<=255 and isinstance(int(x),int))=='True']\n",
    "    if len(validL)==len(List) and len(validL)==4:\n",
    "        return True\n",
    "    else:\n",
    "        return False"
   ]
  },
  {
   "cell_type": "code",
   "execution_count": 32,
   "metadata": {},
   "outputs": [
    {
     "data": {
      "text/plain": [
       "True"
      ]
     },
     "execution_count": 32,
     "metadata": {},
     "output_type": "execute_result"
    }
   ],
   "source": [
    "isinstance(5,int)"
   ]
  },
  {
   "cell_type": "code",
   "execution_count": 56,
   "metadata": {},
   "outputs": [],
   "source": [
    "import re\n",
    "def check_ip(ipAddr):\n",
    "    compile_ip=re.compile('^(1\\d{2}|2[0-4]\\d|25[0-5]|[1-9]\\d|[1-9])\\.(1\\d{2}|2[0-4]\\d|25[0-5]|[1-9]\\d|\\d)\\.(1\\d{2}|2[0-4]\\d|25[0-5]|[1-9]\\d|\\d)\\.(1\\d{2}|2[0-4]\\d|25[0-5]|[1-9]\\d|\\d)$')\n",
    "    if compile_ip.match(ipAddr):\n",
    "        return True    \n",
    "    else:    \n",
    "        return False"
   ]
  },
  {
   "cell_type": "code",
   "execution_count": null,
   "metadata": {},
   "outputs": [],
   "source": []
  },
  {
   "cell_type": "code",
   "execution_count": 1,
   "metadata": {},
   "outputs": [],
   "source": [
    "# 判断是否是合法的IP地址\n",
    "def isIpVsAddrLegal(ipStr):\n",
    "    ip_split_list = ipStr.strip().split('.')\n",
    "\n",
    "    if len(ip_split_list) != 4: # 切割后列表必须要有四个元素\n",
    "        return False\n",
    "\n",
    "    for i in range(4):\n",
    "        try:\n",
    "            ip_split_list[i] = int(ip_split_list[i])\n",
    "        except:\n",
    "            print(\"IP invalid for not number: \"+ ipStr) \n",
    "            exit() \n",
    "\n",
    "        if ip_split_list[i] <= 255 and ip_split_list[i] >= 0:\n",
    "            pass\n",
    "        else:\n",
    "            print(\"IP invalid: \" + ipStr)\n",
    "            return False"
   ]
  },
  {
   "cell_type": "code",
   "execution_count": 3,
   "metadata": {},
   "outputs": [
    {
     "data": {
      "text/plain": [
       "False"
      ]
     },
     "execution_count": 3,
     "metadata": {},
     "output_type": "execute_result"
    }
   ],
   "source": [
    "isIpVsAddrLegal(\"1,b,11,2\")"
   ]
  },
  {
   "cell_type": "code",
   "execution_count": 6,
   "metadata": {},
   "outputs": [],
   "source": [
    "def validip(ip):\n",
    "    if '.' not in ip:\n",
    "        return False\n",
    "    ip_L=ip.strip().split('.')\n",
    "    if len(ip)!=4:\n",
    "        return False\n",
    "    for i in range(4):\n",
    "        try:\n",
    "            ip_L[i]=int(ip_L[i])\n",
    "        except:\n",
    "            return False\n",
    "            exit()\n",
    "        if ip_L[i] <=255 and ip_L[i] >= 0:\n",
    "            pass\n",
    "        else:\n",
    "            return False"
   ]
  },
  {
   "cell_type": "code",
   "execution_count": 7,
   "metadata": {},
   "outputs": [
    {
     "data": {
      "text/plain": [
       "False"
      ]
     },
     "execution_count": 7,
     "metadata": {},
     "output_type": "execute_result"
    }
   ],
   "source": [
    "validip((\"1.b.11.2\"))"
   ]
  },
  {
   "cell_type": "markdown",
   "metadata": {},
   "source": [
    "# 67. Add Binary & 415. Add Strings\n"
   ]
  },
  {
   "cell_type": "markdown",
   "metadata": {},
   "source": [
    "Given two non-negative integers, num1 and num2 represented as string, return the sum of num1 and num2 as a string.\n",
    "\n",
    "You must solve the problem without using any built-in library for handling large integers (such as BigInteger). You must also not convert the inputs to integers directly.\n",
    "\n",
    "Input: num1 = \"11\", num2 = \"123\"\n",
    "Output: \"134\"\n",
    "\n",
    "Given two binary strings a and b, return their sum as a binary string.\n",
    "\n",
    "Example 1:\n",
    "\n",
    "Input: a = \"11\", b = \"1\"\n",
    "Output: \"100\""
   ]
  },
  {
   "cell_type": "code",
   "execution_count": null,
   "metadata": {},
   "outputs": [],
   "source": [
    "class Solution:\n",
    "    def addBinary(self, a: str, b: str) -> str:\n",
    "        res=''\n",
    "        i,j=len(a)-1,len(b)-1\n",
    "        carry=0\n",
    "        while i>=0 or j>=0 or carry:\n",
    "            if i<0:\n",
    "                aB=0\n",
    "            else:\n",
    "                aB=int(a[i])\n",
    "            if j<0:\n",
    "                bB=0\n",
    "            else:\n",
    "                bB=int(b[j])\n",
    "            temp=aB+bB+carry\n",
    "            carry=temp//2\n",
    "            res+=str(temp%2)\n",
    "            i-=1\n",
    "            j-=1\n",
    "        return res[::-1]\n",
    "    \n",
    "class Solution:\n",
    "    def addStrings(self, num1: str, num2: str) -> str:\n",
    "        carry=0\n",
    "        i=len(num1)-1\n",
    "        j=len(num2)-1\n",
    "        res=''\n",
    "        while i>=0 or j>=0 or carry:\n",
    "            if i<0:\n",
    "                a=0\n",
    "            else:\n",
    "                a=num1[i]\n",
    "            if j<0:\n",
    "                b=0\n",
    "            else:\n",
    "                b=num2[j]\n",
    "            temp=int(a)+int(b)+carry\n",
    "            carry=temp//10\n",
    "            res+=str(temp%10)\n",
    "            i-=1\n",
    "            j-=1\n",
    "        return res[::-1]"
   ]
  },
  {
   "cell_type": "code",
   "execution_count": null,
   "metadata": {},
   "outputs": [],
   "source": []
  },
  {
   "cell_type": "markdown",
   "metadata": {},
   "source": [
    "# 2. Add Two Numbers\n"
   ]
  },
  {
   "cell_type": "markdown",
   "metadata": {},
   "source": [
    "You are given two non-empty linked lists representing two non-negative integers. The digits are stored in reverse order, and each of their nodes contains a single digit. Add the two numbers and return the sum as a linked list.\n",
    "\n",
    "You may assume the two numbers do not contain any leading zero, except the number 0 itself."
   ]
  },
  {
   "cell_type": "code",
   "execution_count": null,
   "metadata": {},
   "outputs": [],
   "source": [
    "# Definition for singly-linked list.\n",
    "# class ListNode:\n",
    "#     def __init__(self, val=0, next=None):\n",
    "#         self.val = val\n",
    "#         self.next = next\n",
    "class Solution:\n",
    "    def addTwoNumbers(self, l1: ListNode, l2: ListNode) -> ListNode:\n",
    "        \n",
    "        if l1==None:\n",
    "            return l2\n",
    "        if l2==None:\n",
    "            return l1\n",
    "        \n",
    "        carry=0\n",
    "        dummy=ListNode(0)\n",
    "        p=dummy\n",
    "        while l1 and l2:\n",
    "            p.next=ListNode((l1.val+l2.val+carry)%10)\n",
    "            carry=(l1.val+l2.val+carry)//10\n",
    "            p=p.next\n",
    "            l1=l1.next\n",
    "            l2=l2.next\n",
    "        if l1:\n",
    "            while l1:\n",
    "                p.next=ListNode((l1.val+carry)%10)\n",
    "                carry=(l1.val+carry)//10\n",
    "                p=p.next\n",
    "                l1=l1.next\n",
    "        if l2:\n",
    "            while l2:\n",
    "                p.next=ListNode((l2.val+carry)%10)\n",
    "                carry=(l2.val+carry)//10\n",
    "                p=p.next\n",
    "                l2=l2.next\n",
    "        if carry==1:\n",
    "                p.next=ListNode(1)\n",
    "                return dummy.next"
   ]
  },
  {
   "cell_type": "code",
   "execution_count": null,
   "metadata": {},
   "outputs": [],
   "source": [
    "## let code method\n",
    "class Solution:\n",
    "    def addTwoNumbers(self, l1: ListNode, l2: ListNode) -> ListNode:\n",
    "        dummy=tail=ListNode(0)\n",
    "        carry=0\n",
    "        while l1 or l2 or carry:\n",
    "            carry+=(l1.val if l1 else 0)+(l2.val if l2 else 0)\n",
    "            tail.next=ListNode(carry%10)\n",
    "            tail=tail.next\n",
    "            carry//=10\n",
    "            l1=l1.next if l1 else None\n",
    "            l2=l2.next if l2 else None\n",
    "        return dummy.next"
   ]
  },
  {
   "cell_type": "markdown",
   "metadata": {},
   "source": [
    "# 56. Merge Intervals"
   ]
  },
  {
   "cell_type": "code",
   "execution_count": null,
   "metadata": {},
   "outputs": [],
   "source": [
    "class Solution:\n",
    "    def merge(self, intervals: List[List[int]]) -> List[List[int]]:\n",
    "        intervals.sort(key=lambda x:x[0])\n",
    "        res=[]\n",
    "        i=0\n",
    "        while i<len(intervals):\n",
    "            cur_s=intervals[i][0]\n",
    "            cur_e=intervals[i][1]\n",
    "            if res:\n",
    "                pre_s,pre_e=res[-1]\n",
    "                if pre_e<cur_s:\n",
    "                    res.append(intervals[i])\n",
    "                else:\n",
    "                    res[-1][1]=max(pre_e,cur_e)\n",
    "            else:\n",
    "                res.append(intervals[i])\n",
    "            i+=1\n",
    "        return res"
   ]
  },
  {
   "cell_type": "markdown",
   "metadata": {},
   "source": [
    "# 724. Find Pivot Index"
   ]
  },
  {
   "cell_type": "code",
   "execution_count": null,
   "metadata": {},
   "outputs": [],
   "source": [
    "class Solution:\n",
    "    def pivotIndex(self, nums: List[int]) -> int:\n",
    "        n=len(nums)\n",
    "        sumR=sum(nums)\n",
    "        sumL=0\n",
    "        for i in range(0,n):\n",
    "            sumR-=nums[i]\n",
    "            if sumR==sumL:\n",
    "                return i\n",
    "            sumL+=nums[i]\n",
    "        return -1"
   ]
  },
  {
   "cell_type": "markdown",
   "metadata": {},
   "source": [
    "# 678. Valid Parenthesis String"
   ]
  },
  {
   "cell_type": "markdown",
   "metadata": {},
   "source": [
    "Given a string s containing only three types of characters: '(', ')' and '*', return true if s is valid.\n",
    "\n",
    "The following rules define a valid string:\n",
    "\n",
    "Any left parenthesis '(' must have a corresponding right parenthesis ')'.\n",
    "Any right parenthesis ')' must have a corresponding left parenthesis '('.\n",
    "Left parenthesis '(' must go before the corresponding right parenthesis ')'.\n",
    "'*' could be treated as a single right parenthesis ')' or a single left parenthesis '(' or an empty string \"\".\n",
    "Example 1:\n",
    "\n",
    "Input: s = \"()\"\n",
    "Output: true\n",
    "Example 2:\n",
    "\n",
    "Input: s = \"(*)\"\n",
    "Output: true\n",
    "Example 3:\n",
    "\n",
    "Input: s = \"(*))\"\n",
    "Output: true"
   ]
  },
  {
   "cell_type": "code",
   "execution_count": null,
   "metadata": {},
   "outputs": [],
   "source": [
    "class Solution:\n",
    "    def checkValidString(self, s: str) -> bool:\n",
    "        l=h=0\n",
    "        for i in s:\n",
    "            l+=1 if i=='(' else -1\n",
    "            h+=1 if i!=')' else -1\n",
    "            if h<0: break\n",
    "            l=max(l,0)\n",
    "        return l==0"
   ]
  }
 ],
 "metadata": {
  "kernelspec": {
   "display_name": "Python 3",
   "language": "python",
   "name": "python3"
  },
  "language_info": {
   "codemirror_mode": {
    "name": "ipython",
    "version": 3
   },
   "file_extension": ".py",
   "mimetype": "text/x-python",
   "name": "python",
   "nbconvert_exporter": "python",
   "pygments_lexer": "ipython3",
   "version": "3.8.5"
  }
 },
 "nbformat": 4,
 "nbformat_minor": 4
}
